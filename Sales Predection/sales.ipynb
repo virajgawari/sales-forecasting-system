{
 "cells": [
  {
   "cell_type": "code",
   "execution_count": 276,
   "metadata": {},
   "outputs": [],
   "source": [
    "import pandas as pd\n",
    "import matplotlib.pyplot as plt\n",
    "import seaborn as sns\n",
    "from sklearn.model_selection import train_test_split\n",
    "from sklearn.linear_model import LinearRegression\n",
    "from sklearn.ensemble import RandomForestRegressor\n",
    "from sklearn.metrics import mean_absolute_error, mean_squared_error, r2_score"
   ]
  },
  {
   "cell_type": "code",
   "execution_count": 277,
   "metadata": {},
   "outputs": [],
   "source": [
    "data = pd.read_csv(r\"C:\\Users\\ASUS\\Desktop\\Gen AI\\Sales Predection\\train.csv\")"
   ]
  },
  {
   "cell_type": "code",
   "execution_count": 278,
   "metadata": {},
   "outputs": [],
   "source": [
    "data['Item_Fat_Content'] = data['Item_Fat_Content'].str.lower()  \n",
    "data['Item_Fat_Content'] = data['Item_Fat_Content'].str.strip()  \n"
   ]
  },
  {
   "cell_type": "code",
   "execution_count": 279,
   "metadata": {},
   "outputs": [],
   "source": [
    "data['Item_Fat_Content'].replace({\n",
    "    'lf': 'low fat',\n",
    "    'reg': 'regular',\n",
    "    'low fat': 'low fat', \n",
    "}, inplace=True)"
   ]
  },
  {
   "cell_type": "code",
   "execution_count": null,
   "metadata": {},
   "outputs": [],
   "source": [
    "Outlet_Size = data['Outlet_Size'].value_counts()\n",
    "print(Outlet_Size)"
   ]
  },
  {
   "cell_type": "code",
   "execution_count": null,
   "metadata": {},
   "outputs": [],
   "source": [
    "from sklearn.preprocessing import LabelEncoder\n",
    "\n",
    "label_encoder = LabelEncoder()\n",
    "data['Outlet_Size'] = label_encoder.fit_transform(data['Outlet_Size'])\n",
    "data.head()"
   ]
  },
  {
   "cell_type": "code",
   "execution_count": null,
   "metadata": {},
   "outputs": [],
   "source": [
    "Outlet_Location_Type = data['Outlet_Location_Type'].value_counts()\n",
    "print(Outlet_Location_Type)"
   ]
  },
  {
   "cell_type": "code",
   "execution_count": null,
   "metadata": {},
   "outputs": [],
   "source": [
    "from sklearn.preprocessing import LabelEncoder\n",
    "\n",
    "label_encoder = LabelEncoder()\n",
    "data['Outlet_Location_Type'] = label_encoder.fit_transform(data['Outlet_Location_Type'])\n",
    "data.head()"
   ]
  },
  {
   "cell_type": "code",
   "execution_count": null,
   "metadata": {},
   "outputs": [],
   "source": [
    "Outlet_Type = data['Outlet_Type'].value_counts()\n",
    "print(Outlet_Type)"
   ]
  },
  {
   "cell_type": "code",
   "execution_count": null,
   "metadata": {},
   "outputs": [],
   "source": [
    "from sklearn.preprocessing import LabelEncoder\n",
    "\n",
    "label_encoder = LabelEncoder()\n",
    "data['Outlet_Type'] = label_encoder.fit_transform(data['Outlet_Type'])\n",
    "data.head()"
   ]
  },
  {
   "cell_type": "code",
   "execution_count": null,
   "metadata": {},
   "outputs": [],
   "source": [
    "Outlet_Identifier = data['Outlet_Identifier'].value_counts()\n",
    "print(Outlet_Identifier)"
   ]
  },
  {
   "cell_type": "code",
   "execution_count": null,
   "metadata": {},
   "outputs": [],
   "source": [
    "from sklearn.preprocessing import LabelEncoder\n",
    "\n",
    "label_encoder = LabelEncoder()\n",
    "data['Outlet_Identifier'] = label_encoder.fit_transform(data['Outlet_Identifier'])\n",
    "data.head()"
   ]
  },
  {
   "cell_type": "code",
   "execution_count": 288,
   "metadata": {},
   "outputs": [],
   "source": [
    "data['Outlet_Age'] = 2024 - data['Outlet_Establishment_Year']\n"
   ]
  },
  {
   "cell_type": "code",
   "execution_count": null,
   "metadata": {},
   "outputs": [],
   "source": [
    "data.head()"
   ]
  },
  {
   "cell_type": "code",
   "execution_count": null,
   "metadata": {},
   "outputs": [],
   "source": [
    "plt.figure(figsize=(12, 8))\n",
    "\n",
    "plt.subplot(2, 2, 1)\n",
    "data[data['Outlet_Establishment_Year'] == 1999]['Item_Outlet_Sales'].hist(alpha=0.5, label='1999', bins=10)\n",
    "data[data['Outlet_Establishment_Year'] == 2000]['Item_Outlet_Sales'].hist(alpha=0.5, label='2000', bins=10)\n",
    "plt.title('Sales by Outlet Establishment Year')\n",
    "plt.xlabel('Item Outlet Sales')\n",
    "plt.ylabel('Frequency')\n",
    "plt.legend()\n",
    "\n",
    "\n",
    "plt.subplot(2, 2, 2)\n",
    "for size in data['Outlet_Size'].unique():\n",
    "    data[data['Outlet_Size'] == size]['Item_Outlet_Sales'].hist(alpha=0.5, label=size, bins=10)\n",
    "plt.title('Sales by Outlet Size')\n",
    "plt.xlabel('Item Outlet Sales')\n",
    "plt.ylabel('Frequency')\n",
    "plt.legend()\n",
    "\n",
    "plt.subplot(2, 2, 3)\n",
    "for location in data['Outlet_Location_Type'].unique():\n",
    "    data[data['Outlet_Location_Type'] == location]['Item_Outlet_Sales'].hist(alpha=0.5, label=location, bins=10)\n",
    "plt.title('Sales by Outlet Location Type')\n",
    "plt.xlabel('Item Outlet Sales')\n",
    "plt.ylabel('Frequency')\n",
    "plt.legend()\n",
    "\n",
    "plt.subplot(2, 2, 4)\n",
    "for outlet_type in data['Outlet_Type'].unique():\n",
    "    data[data['Outlet_Type'] == outlet_type]['Item_Outlet_Sales'].hist(alpha=0.5, label=outlet_type, bins=10)\n",
    "plt.title('Sales by Outlet Type')\n",
    "plt.xlabel('Item Outlet Sales')\n",
    "plt.ylabel('Frequency')\n",
    "plt.legend()\n",
    "\n",
    "plt.tight_layout()\n",
    "plt.show()"
   ]
  },
  {
   "cell_type": "code",
   "execution_count": 291,
   "metadata": {},
   "outputs": [],
   "source": [
    "features = ['Outlet_Establishment_Year', 'Outlet_Size', 'Outlet_Location_Type', 'Outlet_Type']\n",
    "X = data[features]\n",
    "y = data['Item_Outlet_Sales']\n"
   ]
  },
  {
   "cell_type": "code",
   "execution_count": null,
   "metadata": {},
   "outputs": [],
   "source": [
    "from sklearn.preprocessing import LabelEncoder\n",
    "\n",
    "label_encoder = LabelEncoder()\n",
    "X['Outlet_Size'] = label_encoder.fit_transform(X['Outlet_Size'])\n",
    "X['Outlet_Location_Type'] = label_encoder.fit_transform(X['Outlet_Location_Type'])\n",
    "X['Outlet_Type'] = label_encoder.fit_transform(X['Outlet_Type'])\n",
    "\n",
    "X['Outlet_Age'] = 2024 - X['Outlet_Establishment_Year']\n",
    "X.drop('Outlet_Establishment_Year', axis=1, inplace=True)\n",
    "\n",
    "X_train, X_test, y_train, y_test = train_test_split(X, y, test_size=0.2, random_state=42)\n"
   ]
  },
  {
   "cell_type": "code",
   "execution_count": null,
   "metadata": {},
   "outputs": [],
   "source": [
    "from sklearn.ensemble import RandomForestRegressor\n",
    "rf_model = RandomForestRegressor(n_estimators=100, random_state=42)\n",
    "\n",
    "rf_model.fit(X_train, y_train)\n"
   ]
  },
  {
   "cell_type": "code",
   "execution_count": null,
   "metadata": {},
   "outputs": [],
   "source": [
    "y_pred_rf = rf_model.predict(X_test)\n",
    "\n",
    "mae = mean_absolute_error(y_test, y_pred_rf)\n",
    "print(f\"Mean Absolute Error: {mae}\")\n"
   ]
  },
  {
   "cell_type": "code",
   "execution_count": 295,
   "metadata": {},
   "outputs": [],
   "source": [
    "import joblib"
   ]
  },
  {
   "cell_type": "code",
   "execution_count": null,
   "metadata": {},
   "outputs": [],
   "source": [
    "joblib.dump(rf_model, 'random_forest_model.pkl')\n"
   ]
  },
  {
   "cell_type": "code",
   "execution_count": null,
   "metadata": {},
   "outputs": [],
   "source": []
  }
 ],
 "metadata": {
  "kernelspec": {
   "display_name": "base",
   "language": "python",
   "name": "python3"
  },
  "language_info": {
   "codemirror_mode": {
    "name": "ipython",
    "version": 3
   },
   "file_extension": ".py",
   "mimetype": "text/x-python",
   "name": "python",
   "nbconvert_exporter": "python",
   "pygments_lexer": "ipython3",
   "version": "3.8.5"
  }
 },
 "nbformat": 4,
 "nbformat_minor": 2
}
